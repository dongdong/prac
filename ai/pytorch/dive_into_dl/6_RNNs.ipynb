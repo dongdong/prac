{
 "cells": [
  {
   "cell_type": "markdown",
   "metadata": {},
   "source": [
    "### 6.1 语言模型\n",
    "* 语言模型的计算\n",
    "* n元语法\n",
    "    - 通过马尔可夫假设简化了语言模型的计算\n",
    "    - 假设：一个词的出现只与前面n个词相关，即n阶马尔可夫链\n",
    "    - unigram，bigram，trigram"
   ]
  },
  {
   "cell_type": "markdown",
   "metadata": {},
   "source": [
    "### 6.2 循环神经网络\n",
    "* 不含隐藏状态的神经网络\n",
    "* 含隐藏状态的循环神经网络\n",
    "    - 保存上一时间步的隐藏变量H（t-1），\n",
    "    - 并引入新的权重参数Whh，描述如何使用上一时间步的隐藏变量\n",
    "* 循环神经网络的隐藏状态可以捕捉至当前时间步的序列的历史信息\n",
    "* 循环神经网络模型参数的数量不随时间步的增加而增长\n",
    "* 可以基于字符级循环神经网络来创建语言模型"
   ]
  },
  {
   "cell_type": "code",
   "execution_count": null,
   "metadata": {},
   "outputs": [],
   "source": [
    "import torch\n",
    "from torch import nn, optim\n",
    "import torch.nn.functional as F\n",
    "import numpy as np\n",
    "import time\n",
    "import d2lzh_pytorch as d2l\n",
    "import math"
   ]
  },
  {
   "cell_type": "code",
   "execution_count": null,
   "metadata": {},
   "outputs": [],
   "source": [
    "X, W_xh = torch.randn(3, 1), torch.randn(1, 4)\n",
    "H, W_hh = torch.randn(3, 4), torch.randn(4, 4)\n",
    "torch.matmul(X, W_xh) + torch.matmul(H, W_hh)"
   ]
  },
  {
   "cell_type": "code",
   "execution_count": null,
   "metadata": {},
   "outputs": [],
   "source": [
    "torch.matmul(torch.cat((X, H), dim=1), \n",
    "             torch.cat((W_xh, W_hh), dim=0))"
   ]
  },
  {
   "cell_type": "markdown",
   "metadata": {},
   "source": [
    "### 6.3 语言模型数据集（周杰伦专辑歌词）"
   ]
  },
  {
   "cell_type": "code",
   "execution_count": null,
   "metadata": {},
   "outputs": [],
   "source": [
    "# 读取数据集\n",
    "import random\n",
    "import zipfile\n",
    "\n",
    "data_path = 'data/jaychou_lyrics.txt.zip'\n",
    "with zipfile.ZipFile(data_path) as zin:\n",
    "    with zin.open('jaychou_lyrics.txt') as f:\n",
    "        corpus_chars = f.read().decode('utf-8')\n",
    "print(len(corpus_chars))\n",
    "corpus_chars[:40]"
   ]
  },
  {
   "cell_type": "code",
   "execution_count": null,
   "metadata": {},
   "outputs": [],
   "source": [
    "corpus_chars = corpus_chars.replace('\\n', ' '\n",
    "        ).replace('\\r', ' ')\n",
    "corpus_chars = corpus_chars[0:10000]"
   ]
  },
  {
   "cell_type": "code",
   "execution_count": null,
   "metadata": {},
   "outputs": [],
   "source": [
    "# 建立字符索引\n",
    "idx_to_char = list(set(corpus_chars))\n",
    "char_to_idx = dict([(char, i) for i, char in \n",
    "                   enumerate(idx_to_char)])\n",
    "vocab_size = len(char_to_idx)\n",
    "vocab_size"
   ]
  },
  {
   "cell_type": "code",
   "execution_count": null,
   "metadata": {},
   "outputs": [],
   "source": [
    "corpus_indices = [char_to_idx[char] \n",
    "                  for char in corpus_chars]\n",
    "sample = corpus_indices[:20]\n",
    "print('chars:',''.join([idx_to_char[idx] \n",
    "                        for idx in sample]))\n",
    "print('indices:', sample)"
   ]
  },
  {
   "cell_type": "markdown",
   "metadata": {},
   "source": [
    "##### 时序数据的采样\n",
    "* 随机采样\n",
    "    - 每次从数据里随机采样一个小批量\n",
    "    - 每个样本是原始序列上任意截取的一段序列，相邻的两个随机小批量在原始序列上的位置不一定相毗邻\n",
    "    - 因此，无法用一个小批量最终时间步的隐藏状态来初始化下一个小批量的隐藏状态\n",
    "    - 训练模型时，每次随机采样前都需要重新初始化隐藏状态\n",
    "* 相邻采样\n",
    "    - 令相邻的两个随机小批量在原始序列上的位置相毗邻"
   ]
  },
  {
   "cell_type": "code",
   "execution_count": null,
   "metadata": {},
   "outputs": [],
   "source": [
    "# 随机采样\n",
    "def data_iter_random(corpus_indices, batch_size, \n",
    "                     num_steps, device=None):\n",
    "    ''' 每次从数据里随机采样一个小批量\n",
    "        batch_size：每个小批量的样本数\n",
    "        num_steps：每个样本所包含的时间步数\n",
    "    '''\n",
    "    num_examples = (len(corpus_indices) - 1) // num_steps\n",
    "    epoch_size = num_examples // batch_size\n",
    "    example_indices = list(range(num_examples))\n",
    "    random.shuffle(example_indices)\n",
    "    \n",
    "    def _data(pos):\n",
    "        return corpus_indices[pos: pos + num_steps]\n",
    "    \n",
    "    if device is None:\n",
    "        device = torch.device('cuda' if \n",
    "                torch.cuda.is_available() else 'cpu')\n",
    "        \n",
    "    for i in range(epoch_size):\n",
    "        i = i * batch_size\n",
    "        batch_indices = example_indices[i: i + batch_size]\n",
    "        X = [_data(j * num_steps) for j in batch_indices]\n",
    "        Y = [_data(j * num_steps + 1) for j in \n",
    "                 batch_indices]\n",
    "        yield torch.tensor(X, dtype=torch.float32, \n",
    "                           device=device),  torch.tensor(\n",
    "                Y, dtype=torch.float32, device=device)"
   ]
  },
  {
   "cell_type": "code",
   "execution_count": null,
   "metadata": {},
   "outputs": [],
   "source": [
    "my_seq = list(range(30))\n",
    "for X, Y in data_iter_random(my_seq, batch_size=2, \n",
    "                             num_steps=6):\n",
    "    print(\"X:\", X, '\\nY:', Y, '\\n')"
   ]
  },
  {
   "cell_type": "code",
   "execution_count": null,
   "metadata": {},
   "outputs": [],
   "source": [
    "# 相邻采样\n",
    "def data_iter_consecutive(corpus_indices, batch_size,\n",
    "                         num_steps, device=None):\n",
    "    if device is None:\n",
    "        device = torch.device('cuda' if \n",
    "                torch.cuda.is_available() else 'cpu')\n",
    "    corpus_indices = torch.tensor(corpus_indices, \n",
    "                                 dtype=torch.float32,\n",
    "                                 device=device)\n",
    "    data_len = len(corpus_indices)\n",
    "    batch_len = data_len // batch_size\n",
    "    #print(data_len, batch_len)\n",
    "    indices = corpus_indices[0: batch_size * batch_len\n",
    "                            ].view(batch_size, batch_len)\n",
    "    epoch_size = (batch_len - 1) // num_steps\n",
    "    for i in range(epoch_size):\n",
    "        i = i * num_steps\n",
    "        X = indices[:, i: i + num_steps]\n",
    "        Y = indices[:, i + 1: i + num_steps + 1]\n",
    "        yield X, Y"
   ]
  },
  {
   "cell_type": "code",
   "execution_count": null,
   "metadata": {},
   "outputs": [],
   "source": [
    "my_seq = list(range(30))\n",
    "for X, Y in data_iter_consecutive(my_seq, batch_size=2,\n",
    "                                 num_steps=6):\n",
    "    print('X:', X, '\\nY:', Y, '\\n')"
   ]
  },
  {
   "cell_type": "markdown",
   "metadata": {},
   "source": [
    "### 6.4 循环神经网络的从零开始实现\n",
    "从零开始实现一个基于字符级循环神经网络的语言模型，并在周杰伦专辑歌词数据集上训练一个模型来进行歌词创作"
   ]
  },
  {
   "cell_type": "code",
   "execution_count": null,
   "metadata": {},
   "outputs": [],
   "source": [
    "# one-hot向量\n",
    "def one_hot(x, n_class, dtype=torch.float32):\n",
    "    # x shape: (batch), output shape: (batch, n_class)\n",
    "    x = x.long()\n",
    "    res = torch.zeros(x.shape[0], n_class, dtype=dtype,\n",
    "                     device=x.device)\n",
    "    res.scatter_(1, x.view(-1, 1), 1)\n",
    "    return res\n",
    "\n",
    "x = torch.tensor([0, 2])\n",
    "one_hot(x, vocab_size)"
   ]
  },
  {
   "cell_type": "code",
   "execution_count": null,
   "metadata": {},
   "outputs": [],
   "source": [
    "def to_onehot(X, n_class):\n",
    "    # X shape: (batch, seq_len)\n",
    "    # output: seq_len elsements of (batch, n_class)\n",
    "    return [one_hot(X[:, i], n_class) \n",
    "            for i in range(X.shape[1])]"
   ]
  },
  {
   "cell_type": "code",
   "execution_count": null,
   "metadata": {},
   "outputs": [],
   "source": [
    "X = torch.arange(10).view(2, 5)\n",
    "inputs = to_onehot(X, 10)\n",
    "print(len(inputs), inputs[0].shape)"
   ]
  },
  {
   "cell_type": "code",
   "execution_count": null,
   "metadata": {},
   "outputs": [],
   "source": [
    "print(X)"
   ]
  },
  {
   "cell_type": "code",
   "execution_count": null,
   "metadata": {},
   "outputs": [],
   "source": [
    "print(inputs)"
   ]
  },
  {
   "cell_type": "code",
   "execution_count": null,
   "metadata": {},
   "outputs": [],
   "source": [
    "# 初始化模型参数\n",
    "def get_params():\n",
    "    def _one(shape):\n",
    "        ts = torch.tensor(\n",
    "            np.random.normal(0, 0.01, size=shape), \n",
    "            device=device, \n",
    "            dtype=torch.float32)\n",
    "        return torch.nn.Parameter(ts, requires_grad=True)\n",
    "    W_xh = _one((num_inputs, num_hiddens))\n",
    "    W_hh = _one((num_hiddens, num_hiddens))\n",
    "    b_h = torch.nn.Parameter(torch.zeros(num_hiddens, \n",
    "            device=device, requires_grad=True))\n",
    "    W_hq = _one((num_hiddens, num_outputs))\n",
    "    b_q = torch.nn.Parameter(torch.zeros(num_outputs,\n",
    "            device=device, requires_grad=True))\n",
    "    return nn.ParameterList([W_xh, W_hh, b_h, W_hq, b_q])"
   ]
  },
  {
   "cell_type": "code",
   "execution_count": null,
   "metadata": {},
   "outputs": [],
   "source": [
    "# 定义模型\n",
    "def init_rnn_state(batch_size, num_hiddens, device):\n",
    "    return (torch.zeros((batch_size, num_hiddens), \n",
    "                        device=device),)"
   ]
  },
  {
   "cell_type": "code",
   "execution_count": null,
   "metadata": {},
   "outputs": [],
   "source": [
    "def rnn(inputs, state, params):\n",
    "    W_xh, W_hh, b_h, W_hq, b_q = params\n",
    "    H, = state\n",
    "    outputs = []\n",
    "    for X in inputs:\n",
    "        H = torch.tanh(torch.matmul(X, W_xh) + \n",
    "                      torch.matmul(H, W_hh) +\n",
    "                      b_h)\n",
    "        Y = torch.matmul(H, W_hq) + b_q\n",
    "        outputs.append(Y)\n",
    "    return outputs, (H,)"
   ]
  },
  {
   "cell_type": "code",
   "execution_count": null,
   "metadata": {},
   "outputs": [],
   "source": [
    "num_inputs, num_hiddens = vocab_size, 256\n",
    "num_outputs = vocab_size\n",
    "device = ('cuda' if torch.cuda.is_available() else 'cpu')"
   ]
  },
  {
   "cell_type": "code",
   "execution_count": null,
   "metadata": {},
   "outputs": [],
   "source": [
    "state = init_rnn_state(X.shape[0], num_hiddens, device)\n",
    "inputs = to_onehot(X.to(device), vocab_size)\n",
    "params = get_params()\n",
    "outputs, state_new = rnn(inputs, state, params)\n",
    "print(len(outputs), outputs[0].shape, state_new[0].shape)"
   ]
  },
  {
   "cell_type": "code",
   "execution_count": null,
   "metadata": {},
   "outputs": [],
   "source": [
    "def predict_rnn(prefix, num_chars, rnn, params, \n",
    "                init_rnn_state, num_hiddens, vocab_size,\n",
    "               device, idx_to_char, char_to_idx):\n",
    "    state = init_rnn_state(1, num_hiddens, device)\n",
    "    output = [char_to_idx[prefix[0]]]\n",
    "    for t in range(num_chars + len(prefix) - 1):\n",
    "        # 将上一时间步的输出作为当前时间步的输入\n",
    "        X = to_onehot(torch.tensor([[output[-1]]], \n",
    "                device=device), vocab_size)\n",
    "        # 计算输出，更新隐藏状态\n",
    "        (Y, state) = rnn(X, state, params)\n",
    "        # 下一个时间步的输入是prefix里的字符或者当前最佳预测字符\n",
    "        if t < len(prefix) - 1:\n",
    "            output.append(char_to_idx[prefix[t + 1]])\n",
    "        else:\n",
    "            output.append(int(Y[0].argmax(dim=1).item()))\n",
    "    return ''.join([idx_to_char[i] for i in output])"
   ]
  },
  {
   "cell_type": "code",
   "execution_count": null,
   "metadata": {},
   "outputs": [],
   "source": [
    "# 裁剪梯度\n",
    "def grad_clipping(params, theta, device):\n",
    "    norm = torch.tensor([0.0], device=device)\n",
    "    for param in params:\n",
    "        norm += (param.grad.data ** 2).sum()\n",
    "    norm = norm.sqrt().item()\n",
    "    if norm > theta:\n",
    "        for param in params:\n",
    "            param.grad.data *= (theta / norm)"
   ]
  },
  {
   "cell_type": "code",
   "execution_count": null,
   "metadata": {},
   "outputs": [],
   "source": [
    "def train_and_predict_rnn(rnn, get_params, init_rnn_state,\n",
    "                         num_hiddnes, vocab_size, \n",
    "                         device, corpus_indices, \n",
    "                         idx_to_char, char_to_idx,\n",
    "                         is_random_iter, num_epochs,\n",
    "                         num_steps, lr, clipping_theta, \n",
    "                         batch_size, pred_period, pred_len,\n",
    "                         prefixes):\n",
    "    if is_random_iter:\n",
    "        data_iter_fn = data_iter_random\n",
    "    else:\n",
    "        data_iter_fn = data_iter_consecutive\n",
    "    params = get_params()\n",
    "    loss = nn.CrossEntropyLoss()\n",
    "    for epoch in range(num_epochs):\n",
    "        if not is_random_iter:\n",
    "            state = init_rnn_state(batch_size, \n",
    "                                   num_hiddens, device)\n",
    "        l_sum, n, start = 0.0, 0, time.time()\n",
    "        data_iter = data_iter_fn(corpus_indices, \n",
    "                                 batch_size, num_steps,\n",
    "                                 device)\n",
    "        for X, Y in data_iter:\n",
    "            if is_random_iter:\n",
    "                # 如果随机采样，在每个小批量更新前初始化隐藏状态\n",
    "                state = init_rnn_state(batch_size, \n",
    "                                       num_hiddens, \n",
    "                                       device)\n",
    "            else:\n",
    "                # 否则需要使用detach函数从计算图分离隐藏状态\n",
    "                # 这样为了使模型参数的梯度计算只依赖一次迭代\n",
    "                # 防止梯度计算开销太大\n",
    "                for s in state:\n",
    "                    s.detach_()\n",
    "            \n",
    "            inputs = to_onehot(X, vocab_size)\n",
    "            (outputs, state) = rnn(inputs, state, params)\n",
    "            outputs = torch.cat(outputs, dim=0)\n",
    "            y = torch.transpose(Y, 0, 1).contiguous(\n",
    "                    ).view(-1)\n",
    "            l = loss(outputs, y.long())\n",
    "            \n",
    "            if params[0].grad is not None:\n",
    "                for param in params:\n",
    "                    param.grad.data.zero_()\n",
    "                    \n",
    "            l.backward()\n",
    "            grad_clipping(params, clipping_theta, device)\n",
    "            d2l.sgd(params, lr, l)\n",
    "            l_sum += l.item() * y.shape[0]\n",
    "            n += y.shape[0]\n",
    "        \n",
    "        if (epoch + 1) % pred_period == 0:\n",
    "            print('epoch %d, perplexity %f, time %.2f sec' \n",
    "                  % (epoch + 1, math.exp(l_sum / n), \n",
    "                 time.time() - start))\n",
    "            for prefix in prefixes:\n",
    "                print(' -', predict_rnn(prefix, pred_len,\n",
    "                    rnn, params, init_rnn_state, \n",
    "                    num_hiddens, vocab_size, device,\n",
    "                    idx_to_char, char_to_idx))"
   ]
  },
  {
   "cell_type": "code",
   "execution_count": null,
   "metadata": {},
   "outputs": [],
   "source": [
    "num_epochs, num_steps, batch_size = 250, 35, 32\n",
    "lr, clipping_theta = 1e2, 1e-2\n",
    "pred_period, pred_len = 50, 50\n",
    "prefixes = ['分开', '不分开']"
   ]
  },
  {
   "cell_type": "code",
   "execution_count": null,
   "metadata": {},
   "outputs": [],
   "source": [
    "train_and_predict_rnn(rnn, get_params, init_rnn_state,\n",
    "                     num_hiddens, vocab_size, device,\n",
    "                     corpus_indices, idx_to_char,\n",
    "                     char_to_idx, True, num_epochs,\n",
    "                     num_steps, lr, clipping_theta,\n",
    "                     batch_size, pred_period, pred_len,\n",
    "                     prefixes)"
   ]
  },
  {
   "cell_type": "markdown",
   "metadata": {},
   "source": [
    "### 6.5 循环神经网络的简洁实现"
   ]
  },
  {
   "cell_type": "code",
   "execution_count": null,
   "metadata": {},
   "outputs": [],
   "source": [
    "num_hiddens = 256\n",
    "rnn_layer = nn.RNN(input_size=vocab_size, \n",
    "                   hidden_size=num_hiddens)"
   ]
  },
  {
   "cell_type": "code",
   "execution_count": null,
   "metadata": {},
   "outputs": [],
   "source": [
    "num_steps = 35\n",
    "batch_size = 2\n",
    "state = None\n",
    "X = torch.rand(num_steps, batch_size, vocab_size)\n",
    "Y, state_new = rnn_layer(X, state)\n",
    "print(Y.shape, len(state_new), state_new[0].shape)"
   ]
  },
  {
   "cell_type": "code",
   "execution_count": null,
   "metadata": {},
   "outputs": [],
   "source": [
    "class RNNModel(nn.Module):\n",
    "    def __init__(self, rnn_layer, vocab_size):\n",
    "        super(RNNModel, self).__init__()\n",
    "        self.rnn = rnn_layer\n",
    "        self.hidden_size = rnn_layer.hidden_size * (2 if\n",
    "                rnn_layer.bidirectional else 1)\n",
    "        self.vocab_size = vocab_size\n",
    "        self.dense = nn.Linear(self.hidden_size, \n",
    "                               vocab_size)\n",
    "        self.state = None\n",
    "    \n",
    "    def forward(self, inputs, state): \n",
    "        # inputs: (batch, seq_len)\n",
    "        X = to_onehot(inputs, self.vocab_size)\n",
    "        # X: (seq_len, batch, vocab_size)\n",
    "        Y, self.state = self.rnn(torch.stack(X), state)\n",
    "        # Y: (seq_len, batch, hidden)\n",
    "        output = self.dense(Y.view(-1, Y.shape[-1]))\n",
    "        return output, self.state"
   ]
  },
  {
   "cell_type": "code",
   "execution_count": null,
   "metadata": {},
   "outputs": [],
   "source": [
    "def predict_rnn_pytorch(prefix, num_chars, model, \n",
    "                        vocab_size, device, idx_to_char,\n",
    "                       char_to_idx):\n",
    "    state = None\n",
    "    output = [char_to_idx[prefix[0]]]\n",
    "    for t in range(num_chars + len(prefix) - 1):\n",
    "        X = torch.tensor([output[-1]], device=device\n",
    "                        ).view(1, 1)\n",
    "        if state is not None:\n",
    "            if isinstance(state, tuple):\n",
    "                state = (state[0].to(device),\n",
    "                        state[1].to(device))\n",
    "            else:\n",
    "                state = state.to(device)\n",
    "        (Y, state) = model(X, state)\n",
    "        if t < len(prefix) - 1:\n",
    "            output.append(char_to_idx[prefix[t + 1]])\n",
    "        else:\n",
    "            output.append(int(Y.argmax(dim=1).item()))\n",
    "            \n",
    "    return ''.join([idx_to_char[i] for i in output])"
   ]
  },
  {
   "cell_type": "code",
   "execution_count": null,
   "metadata": {},
   "outputs": [],
   "source": [
    "model = RNNModel(rnn_layer, vocab_size).to(device)\n",
    "predict_rnn_pytorch('分开', 10, model, vocab_size, device,\n",
    "                   idx_to_char, char_to_idx)"
   ]
  },
  {
   "cell_type": "code",
   "execution_count": null,
   "metadata": {},
   "outputs": [],
   "source": [
    "def train_and_predict_rnn_pytorch(model, num_hiddens,\n",
    "        vocab_size, device, corpus_indices, idx_to_char,\n",
    "        char_to_idx, num_epochs, num_steps, lr, \n",
    "        clipping_theta, batch_size, pred_period, pred_len,\n",
    "        prefixes):\n",
    "    loss = nn.CrossEntropyLoss()\n",
    "    optimizer = torch.optim.Adam(model.parameters(), \n",
    "                                 lr=lr)\n",
    "    model.to(device)\n",
    "    state = None\n",
    "    for epoch in range(num_epochs):\n",
    "        l_sum, n, start = 0.0, 0, time.time()\n",
    "        data_iter = data_iter_consecutive(corpus_indices, \n",
    "                batch_size, num_steps, device)\n",
    "        for X, Y in data_iter:\n",
    "            if state is not None:\n",
    "                if isinstance(state, tuple):\n",
    "                    state = (state[0].detach(), \n",
    "                            state[1].detach())\n",
    "                else:\n",
    "                    state = state.detach()\n",
    "            (output, state) = model(X, state)\n",
    "            # output shape: \n",
    "            # (num_steps * batch_size, vocab_size)\n",
    "            y = torch.transpose(Y, 0, 1).contiguous(\n",
    "                    ).view(-1)\n",
    "            # shape: batch * num_steps 与y一致\n",
    "            l = loss(output, y.long())\n",
    "            optimizer.zero_grad()\n",
    "            l.backward()\n",
    "            grad_clipping(model.parameters(), \n",
    "                         clipping_theta,\n",
    "                         device)\n",
    "            optimizer.step()\n",
    "            l_sum += l.item() * y.shape[0]\n",
    "            n += y.shape[0]\n",
    "            \n",
    "        try:\n",
    "            perplexity = math.exp(l_sum / n)\n",
    "        except OverflowError:\n",
    "            perplexity = float('inf')\n",
    "        if (epoch + 1) % pred_period == 0:\n",
    "            print('epoch %d, perplexity %f, time %.2f sec'\n",
    "                 % (epoch + 1, perplexity, \n",
    "                  time.time() - start))\n",
    "            for prefix in prefixes:\n",
    "                print('-', predict_rnn_pytorch(prefix,\n",
    "                        pred_len, model, vocab_size,\n",
    "                        device, idx_to_char, char_to_idx)\n",
    "                     )"
   ]
  },
  {
   "cell_type": "code",
   "execution_count": null,
   "metadata": {},
   "outputs": [],
   "source": [
    "num_epochs, batch_size = 250, 32 \n",
    "lr, clipping_theta = 1e-3, 1e-2\n",
    "pred_period, pred_len, prefixes = 50, 50, ['分开', '不分开']\n",
    "train_and_predict_rnn_pytorch(model, num_hiddens, \n",
    "        vocab_size, device, corpus_indices, idx_to_char,\n",
    "        char_to_idx, num_epochs, num_steps, lr, \n",
    "        clipping_theta, batch_size, pred_period, pred_len,\n",
    "        prefixes)"
   ]
  },
  {
   "cell_type": "markdown",
   "metadata": {},
   "source": [
    "### 6.6 通过时间反向传播\n",
    "* back-propagation through time\n",
    "* 需要将循环神经网络按时间步展开，从而得到模型变量和参数之间的依赖关系，并依据链式法则应用反向传播计算并存储梯度\n",
    "* 当总的时间步数较大或者当前时间步较小时，循环神经网络的梯度容易出现衰减或爆炸\n",
    "* 可以通过裁剪梯度应对梯度爆炸"
   ]
  },
  {
   "cell_type": "markdown",
   "metadata": {},
   "source": [
    "### 6.7 门控循环单元（GRU）\n",
    "* 为了更好的捕捉时间序列中时间步距离较大的依赖关系\n",
    "* 重置门和更新门 （reset gate，update gate）\n",
    "    - 重置门有助于捕捉时间序列里短期的依赖关系\n",
    "    - 更新门有助于捕捉时间序列里长期的依赖关系"
   ]
  },
  {
   "cell_type": "code",
   "execution_count": null,
   "metadata": {},
   "outputs": [],
   "source": [
    "device = ('cuda' if torch.cuda.is_available() else 'cpu')"
   ]
  },
  {
   "cell_type": "code",
   "execution_count": null,
   "metadata": {},
   "outputs": [],
   "source": [
    "(corpus_indices, char_to_idx, idx_to_char, vocab_size\n",
    "    ) = d2l.load_data_jay_lyrics()"
   ]
  },
  {
   "cell_type": "code",
   "execution_count": null,
   "metadata": {},
   "outputs": [],
   "source": [
    "num_inputs, num_hiddens = vocab_size, 256\n",
    "num_outputs = vocab_size"
   ]
  },
  {
   "cell_type": "code",
   "execution_count": null,
   "metadata": {},
   "outputs": [],
   "source": [
    "def get_params():\n",
    "    def _one(shape):\n",
    "        ts = torch.tensor(\n",
    "            np.random.normal(0, 0.01, size=shape), \n",
    "            device=device,\n",
    "            dtype=torch.float32)\n",
    "        return torch.nn.Parameter(ts, requires_grad=True)\n",
    "    def _three():\n",
    "        return (_one((num_inputs, num_hiddens)),\n",
    "               _one((num_hiddens, num_hiddens)),\n",
    "               torch.nn.Parameter(\n",
    "                   torch.zeros(num_hiddens, \n",
    "                               device=device, \n",
    "                               dtype=torch.float32), \n",
    "                   requires_grad=True)\n",
    "               )\n",
    "    W_xz, W_hz, b_z = _three() # update gate\n",
    "    W_xr, W_hr, b_r = _three() # reset gate\n",
    "    W_xh, W_hh, b_h = _three() # hidden state\n",
    "    \n",
    "    # output\n",
    "    W_hq = _one((num_hiddens, num_outputs))\n",
    "    b_q = torch.nn.Parameter(\n",
    "                torch.zeros(num_outputs, \n",
    "                            device=device, \n",
    "                            dtype=torch.float32), \n",
    "                requires_grad=True)\n",
    "    \n",
    "    return nn.ParameterList([\n",
    "        W_xz, W_hz, b_z,\n",
    "        W_xr, W_hr, b_r,\n",
    "        W_xh, W_hh, b_h,\n",
    "        W_hq, b_q\n",
    "    ]) "
   ]
  },
  {
   "cell_type": "code",
   "execution_count": null,
   "metadata": {},
   "outputs": [],
   "source": [
    "def init_gru_state(batch_size, num_hidden, device):\n",
    "    return (torch.zeros((batch_size, num_hiddens), \n",
    "                        device=device), )"
   ]
  },
  {
   "cell_type": "code",
   "execution_count": null,
   "metadata": {},
   "outputs": [],
   "source": [
    "def gru(inputs, state, params):\n",
    "    (W_xz, W_hz, b_z, W_xr, W_hr, b_r, W_xh, W_hh, b_h, W_hq, b_q) = params\n",
    "    H, = state\n",
    "    outputs = []\n",
    "    for X in inputs:\n",
    "        Z = torch.sigmoid(torch.matmul(X, W_xz) + \n",
    "                         torch.matmul(H, W_hz) +\n",
    "                         b_z)\n",
    "        R = torch.sigmoid(torch.matmul(X, W_xr) +\n",
    "                         torch.matmul(H, W_hr) +\n",
    "                         b_r)\n",
    "        H_tilda = torch.tanh(torch.matmul(X, W_xh) + \n",
    "                            R * torch.matmul(H, W_hh) +\n",
    "                            b_h)\n",
    "        H = Z * H + (1 - Z) * H_tilda\n",
    "        Y = torch.matmul(H, W_hq) + b_q\n",
    "        outputs.append(Y)\n",
    "    return outputs, (H,)"
   ]
  },
  {
   "cell_type": "code",
   "execution_count": null,
   "metadata": {},
   "outputs": [],
   "source": [
    "num_epochs, num_steps, batch_size = 160, 35, 32\n",
    "lr, clipping_theta = 1e2, 1e-2\n",
    "pred_period, pred_len = 40, 50\n",
    "prefixes = ['分开', '不分开']"
   ]
  },
  {
   "cell_type": "code",
   "execution_count": null,
   "metadata": {},
   "outputs": [],
   "source": [
    "train_and_predict_rnn(gru, get_params, init_gru_state,\n",
    "                     num_hiddens, vocab_size, device,\n",
    "                     corpus_indices, idx_to_char,\n",
    "                     char_to_idx, False, num_epochs,\n",
    "                     num_steps, lr, clipping_theta,\n",
    "                     batch_size, pred_period, pred_len,\n",
    "                     prefixes)"
   ]
  },
  {
   "cell_type": "code",
   "execution_count": null,
   "metadata": {},
   "outputs": [],
   "source": [
    "# 简洁实现\n",
    "lr = 1e-2\n",
    "gru_layer = nn.GRU(input_size=vocab_size, \n",
    "                   hidden_size=num_hiddens)\n",
    "model = RNNModel(gru_layer, vocab_size).to(device)\n",
    "'''\n",
    "train_and_predict_rnn_pytorch(model, num_hiddens, \n",
    "        vocab_size, device, corpus_indices, idx_to_char,\n",
    "        char_to_idx, num_epochs, num_steps, lr, \n",
    "        clipping_theta, batch_size, pred_period, pred_len,\n",
    "        prefixes)\n",
    "'''"
   ]
  },
  {
   "cell_type": "markdown",
   "metadata": {},
   "source": [
    "### 6.8 长短期记忆（LSTM）\n",
    "* 输入门，遗忘门和输出门\n",
    "* 候选记忆细胞\n",
    "* 隐藏状态"
   ]
  },
  {
   "cell_type": "code",
   "execution_count": null,
   "metadata": {},
   "outputs": [],
   "source": []
  }
 ],
 "metadata": {
  "kernelspec": {
   "display_name": "Python 3",
   "language": "python",
   "name": "python3"
  },
  "language_info": {
   "codemirror_mode": {
    "name": "ipython",
    "version": 3
   },
   "file_extension": ".py",
   "mimetype": "text/x-python",
   "name": "python",
   "nbconvert_exporter": "python",
   "pygments_lexer": "ipython3",
   "version": "3.7.4"
  }
 },
 "nbformat": 4,
 "nbformat_minor": 2
}
