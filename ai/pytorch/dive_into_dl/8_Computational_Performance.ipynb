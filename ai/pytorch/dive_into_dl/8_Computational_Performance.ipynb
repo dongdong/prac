{
 "cells": [
  {
   "cell_type": "markdown",
   "metadata": {},
   "source": [
    "### 8.1 命令式和符号式混合编程\n",
    "* 命令式编程\n",
    "    - 使用编程语句改变程序状态\n",
    "    - 很方便，但运行可能很慢\n",
    "* 符号式编程\n",
    "    - 在计算流程完全定义好后才被执行\n",
    "    - 三个步骤：\n",
    "        1. 定义计算流程\n",
    "        2. 把计算流程编译成可执行的程序\n",
    "        3. 给定输入，调用编译好的程序执行\n",
    "    - 符号式编程更高效并更容易移植\n",
    "        - 在编译的时候系统容易做更多优化\n",
    "        - 可以将程序变成一个与python无关的格式，在非python环境下运行\n",
    "* 混合编程\n",
    "    - Gluon采用混合式编程的方式"
   ]
  },
  {
   "cell_type": "markdown",
   "metadata": {},
   "source": [
    "### 8.2 异步计算 "
   ]
  },
  {
   "cell_type": "markdown",
   "metadata": {},
   "source": [
    "### 8.3 自动并行计算"
   ]
  },
  {
   "cell_type": "markdown",
   "metadata": {},
   "source": [
    "### 8.4 多GPU计算 \n",
    "    - 多GPU模型的保存和加载"
   ]
  },
  {
   "cell_type": "code",
   "execution_count": null,
   "metadata": {},
   "outputs": [],
   "source": []
  }
 ],
 "metadata": {
  "kernelspec": {
   "display_name": "Python 3",
   "language": "python",
   "name": "python3"
  },
  "language_info": {
   "codemirror_mode": {
    "name": "ipython",
    "version": 3
   },
   "file_extension": ".py",
   "mimetype": "text/x-python",
   "name": "python",
   "nbconvert_exporter": "python",
   "pygments_lexer": "ipython3",
   "version": "3.7.4"
  }
 },
 "nbformat": 4,
 "nbformat_minor": 2
}
